{
  "nbformat": 4,
  "nbformat_minor": 0,
  "metadata": {
    "colab": {
      "provenance": [],
      "authorship_tag": "ABX9TyN2HpeTPVr1JHSaEtJ7pkP+",
      "include_colab_link": true
    },
    "kernelspec": {
      "name": "python3",
      "display_name": "Python 3"
    },
    "language_info": {
      "name": "python"
    }
  },
  "cells": [
    {
      "cell_type": "markdown",
      "metadata": {
        "id": "view-in-github",
        "colab_type": "text"
      },
      "source": [
        "<a href=\"https://colab.research.google.com/github/blueman102/Weather-data-analysis-Aditya-sikarwar_22/blob/main/Aditya_Sikarwar_CSE_Ai_(A)_MSE(2).ipynb\" target=\"_parent\"><img src=\"https://colab.research.google.com/assets/colab-badge.svg\" alt=\"Open In Colab\"/></a>"
      ]
    },
    {
      "cell_type": "markdown",
      "source": [
        "Book Genres Classifier :- Use Meta data type as author,length and keywords to classify the book genre"
      ],
      "metadata": {
        "id": "wrKuCtS30juQ"
      }
    },
    {
      "cell_type": "markdown",
      "source": [],
      "metadata": {
        "id": "IyG-xIjz5lrZ"
      }
    },
    {
      "cell_type": "code",
      "source": [
        "import pandas as pd\n",
        "from sklearn.model_selection import train_test_split\n",
        "from sklearn.ensemble import RandomForestClassifier\n",
        "from sklearn.preprocessing import LabelEncoder\n",
        "from sklearn.metrics import classification_report, accuracy_score\n",
        "\n",
        "# Load dataset\n",
        "df = pd.read_csv('/content/book_genres.csv')\n",
        "\n",
        "# Features and target\n",
        "X = df[['author_popularity', 'book_length', 'num_keywords']]\n",
        "y = df['genre']\n",
        "\n",
        "# Encode the target labels\n",
        "le = LabelEncoder()\n",
        "y_encoded = le.fit_transform(y)\n",
        "\n",
        "# Train-test split\n",
        "X_train, X_test, y_train, y_test = train_test_split(X, y_encoded, test_size=0.2, random_state=42)\n",
        "\n",
        "# Train a Random Forest classifier\n",
        "clf = RandomForestClassifier(n_estimators=100, random_state=42)\n",
        "clf.fit(X_train, y_train)\n",
        "\n",
        "# Predictions\n",
        "y_pred = clf.predict(X_test)\n",
        "\n",
        "# Evaluate\n",
        "print(\"Accuracy:\", accuracy_score(y_test, y_pred))\n",
        "print(\"Classification Report:\\n\", classification_report(y_test, y_pred, target_names=le.classes_))\n"
      ],
      "metadata": {
        "colab": {
          "base_uri": "https://localhost:8080/"
        },
        "id": "0J_N5pN-5LkZ",
        "outputId": "a58bf684-5ef9-476c-f97a-2b25bf97205d"
      },
      "execution_count": 13,
      "outputs": [
        {
          "output_type": "stream",
          "name": "stdout",
          "text": [
            "Accuracy: 0.5\n",
            "Classification Report:\n",
            "               precision    recall  f1-score   support\n",
            "\n",
            "     fantasy       0.25      0.50      0.33         4\n",
            "     fiction       1.00      1.00      1.00         1\n",
            "     mystery       0.62      0.50      0.56        10\n",
            " non-fiction       0.67      0.40      0.50         5\n",
            "\n",
            "    accuracy                           0.50        20\n",
            "   macro avg       0.64      0.60      0.60        20\n",
            "weighted avg       0.58      0.50      0.52        20\n",
            "\n"
          ]
        }
      ]
    }
  ]
}